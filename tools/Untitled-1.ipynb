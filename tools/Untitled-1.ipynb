{
 "cells": [
  {
   "cell_type": "code",
   "execution_count": 1,
   "metadata": {},
   "outputs": [],
   "source": [
    "import numpy as np\n",
    "import pandas as pd"
   ]
  },
  {
   "cell_type": "code",
   "execution_count": 6,
   "metadata": {},
   "outputs": [
    {
     "name": "stdout",
     "output_type": "stream",
     "text": [
      "/home/zhuying/Projects/RRT-Algorithms/tools\n"
     ]
    },
    {
     "data": {
      "text/html": [
       "<div>\n",
       "<style scoped>\n",
       "    .dataframe tbody tr th:only-of-type {\n",
       "        vertical-align: middle;\n",
       "    }\n",
       "\n",
       "    .dataframe tbody tr th {\n",
       "        vertical-align: top;\n",
       "    }\n",
       "\n",
       "    .dataframe thead th {\n",
       "        text-align: right;\n",
       "    }\n",
       "</style>\n",
       "<table border=\"1\" class=\"dataframe\">\n",
       "  <thead>\n",
       "    <tr style=\"text-align: right;\">\n",
       "      <th></th>\n",
       "      <th>Algorithm</th>\n",
       "      <th>Map</th>\n",
       "      <th>Cost</th>\n",
       "      <th>Runtime</th>\n",
       "    </tr>\n",
       "  </thead>\n",
       "  <tbody>\n",
       "    <tr>\n",
       "      <th>0</th>\n",
       "      <td>a_star</td>\n",
       "      <td>test_1</td>\n",
       "      <td>17.000000</td>\n",
       "      <td>0.004436</td>\n",
       "    </tr>\n",
       "    <tr>\n",
       "      <th>1</th>\n",
       "      <td>RRT_Star</td>\n",
       "      <td>test_1</td>\n",
       "      <td>23.910107</td>\n",
       "      <td>0.014116</td>\n",
       "    </tr>\n",
       "    <tr>\n",
       "      <th>2</th>\n",
       "      <td>RRT_Connect</td>\n",
       "      <td>test_1</td>\n",
       "      <td>26.470581</td>\n",
       "      <td>0.006480</td>\n",
       "    </tr>\n",
       "    <tr>\n",
       "      <th>3</th>\n",
       "      <td>RRT_with_probability</td>\n",
       "      <td>test_1</td>\n",
       "      <td>23.171356</td>\n",
       "      <td>0.007114</td>\n",
       "    </tr>\n",
       "    <tr>\n",
       "      <th>4</th>\n",
       "      <td>connect_RRT_star</td>\n",
       "      <td>test_1</td>\n",
       "      <td>29.417518</td>\n",
       "      <td>0.027542</td>\n",
       "    </tr>\n",
       "  </tbody>\n",
       "</table>\n",
       "</div>"
      ],
      "text/plain": [
       "              Algorithm     Map       Cost   Runtime\n",
       "0                a_star  test_1  17.000000  0.004436\n",
       "1              RRT_Star  test_1  23.910107  0.014116\n",
       "2           RRT_Connect  test_1  26.470581  0.006480\n",
       "3  RRT_with_probability  test_1  23.171356  0.007114\n",
       "4      connect_RRT_star  test_1  29.417518  0.027542"
      ]
     },
     "execution_count": 6,
     "metadata": {},
     "output_type": "execute_result"
    }
   ],
   "source": [
    "df = pd.read_csv('../output/data.csv')\n",
    "df.head()"
   ]
  },
  {
   "cell_type": "code",
   "execution_count": 9,
   "metadata": {},
   "outputs": [],
   "source": [
    "df1 = df.loc[df.loc[:, 'Algorithm'].isin(['RRT_Star'])]\n",
    "df2 = df.loc[df.loc[:, 'Algorithm'].isin(['RRT_Connect'])]\n",
    "df3 = df.loc[df.loc[:, 'Algorithm'].isin(['RRT_with_probability'])]\n",
    "df4 = df.loc[df.loc[:, 'Algorithm'].isin(['connect_RRT_star'])]\n",
    "df5 = df.loc[df.loc[:, 'Algorithm'].isin(['basicRRT'])]\n",
    "df6 = df.loc[df.loc[:, 'Algorithm'].isin(['a_star'])]"
   ]
  },
  {
   "cell_type": "code",
   "execution_count": null,
   "metadata": {},
   "outputs": [],
   "source": [
    "df2.loc[:, 'Algorithm'].to_numpy()[0]"
   ]
  },
  {
   "cell_type": "code",
   "execution_count": 10,
   "metadata": {},
   "outputs": [
    {
     "name": "stdout",
     "output_type": "stream",
     "text": [
      "algorithm: RRT_Star cost mean: 25.893 cost std: 7.410 runtime mean: 0.096 cost std: 0.252\n",
      "algorithm: RRT_Connect cost mean: 24.553 cost std: 6.191 runtime mean: 0.017 cost std: 0.016\n",
      "algorithm: RRT_with_probability cost mean: 24.876 cost std: 7.061 runtime mean: 0.077 cost std: 0.209\n",
      "algorithm: connect_RRT_star cost mean: 24.183 cost std: 5.892 runtime mean: 0.026 cost std: 0.020\n",
      "algorithm: basicRRT cost mean: 29.459 cost std: 7.446 runtime mean: 0.070 cost std: 0.096\n",
      "algorithm: a_star cost mean: 18.380 cost std: 4.143 runtime mean: 0.006 cost std: 0.004\n"
     ]
    }
   ],
   "source": [
    "print(f\"algorithm: {df1.loc[:, 'Algorithm'].to_numpy()[0]} cost mean: {df1.loc[:, 'Cost'].mean():.3f} cost std: {df1.loc[:, 'Cost'].std():.3f} runtime mean: {df1.loc[:, 'Runtime'].mean():.3f} cost std: {df1.loc[:, 'Runtime'].std():.3f}\")\n",
    "print(f\"algorithm: {df2.loc[:, 'Algorithm'].to_numpy()[0]} cost mean: {df2.loc[:, 'Cost'].mean():.3f} cost std: {df2.loc[:, 'Cost'].std():.3f} runtime mean: {df2.loc[:, 'Runtime'].mean():.3f} cost std: {df2.loc[:, 'Runtime'].std():.3f}\")\n",
    "print(f\"algorithm: {df3.loc[:, 'Algorithm'].to_numpy()[0]} cost mean: {df3.loc[:, 'Cost'].mean():.3f} cost std: {df3.loc[:, 'Cost'].std():.3f} runtime mean: {df3.loc[:, 'Runtime'].mean():.3f} cost std: {df3.loc[:, 'Runtime'].std():.3f}\")\n",
    "print(f\"algorithm: {df4.loc[:, 'Algorithm'].to_numpy()[0]} cost mean: {df4.loc[:, 'Cost'].mean():.3f} cost std: {df4.loc[:, 'Cost'].std():.3f} runtime mean: {df4.loc[:, 'Runtime'].mean():.3f} cost std: {df4.loc[:, 'Runtime'].std():.3f}\")\n",
    "print(f\"algorithm: {df5.loc[:, 'Algorithm'].to_numpy()[0]} cost mean: {df5.loc[:, 'Cost'].mean():.3f} cost std: {df5.loc[:, 'Cost'].std():.3f} runtime mean: {df5.loc[:, 'Runtime'].mean():.3f} cost std: {df5.loc[:, 'Runtime'].std():.3f}\")\n",
    "print(f\"algorithm: {df6.loc[:, 'Algorithm'].to_numpy()[0]} cost mean: {df6.loc[:, 'Cost'].mean():.3f} cost std: {df6.loc[:, 'Cost'].std():.3f} runtime mean: {df6.loc[:, 'Runtime'].mean():.3f} cost std: {df6.loc[:, 'Runtime'].std():.3f}\")"
   ]
  }
 ],
 "metadata": {
  "interpreter": {
   "hash": "29191ce80527447146041e964764bda402248ae24bb956f39f1b22bdc3775750"
  },
  "kernelspec": {
   "display_name": "Python 3.7.11 ('research')",
   "language": "python",
   "name": "python3"
  },
  "language_info": {
   "codemirror_mode": {
    "name": "ipython",
    "version": 3
   },
   "file_extension": ".py",
   "mimetype": "text/x-python",
   "name": "python",
   "nbconvert_exporter": "python",
   "pygments_lexer": "ipython3",
   "version": "3.7.11"
  },
  "orig_nbformat": 4
 },
 "nbformat": 4,
 "nbformat_minor": 2
}
